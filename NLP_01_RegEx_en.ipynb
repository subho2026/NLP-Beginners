{
  "nbformat": 4,
  "nbformat_minor": 0,
  "metadata": {
    "colab": {
      "provenance": [],
      "include_colab_link": true
    },
    "kernelspec": {
      "name": "python3",
      "display_name": "Python 3"
    },
    "language_info": {
      "name": "python"
    }
  },
  "cells": [
    {
      "cell_type": "markdown",
      "metadata": {
        "id": "view-in-github",
        "colab_type": "text"
      },
      "source": [
        "<a href=\"https://colab.research.google.com/github/subho2026/NLP-Beginners/blob/main/NLP_01_RegEx_en.ipynb\" target=\"_parent\"><img src=\"https://colab.research.google.com/assets/colab-badge.svg\" alt=\"Open In Colab\"/></a>"
      ]
    },
    {
      "cell_type": "markdown",
      "source": [
        "heavily inspired by\n",
        "[This Overview](https://pynative.com/python/regex/)\n",
        "\n",
        "Credits to them"
      ],
      "metadata": {
        "id": "2aJImEnAcw2E"
      }
    },
    {
      "cell_type": "markdown",
      "source": [
        "# Import stuff)"
      ],
      "metadata": {
        "id": "Q200LMMwU9sv"
      }
    },
    {
      "cell_type": "code",
      "execution_count": null,
      "metadata": {
        "id": "N7aFfVjtU5Nt"
      },
      "outputs": [],
      "source": [
        "import re"
      ]
    },
    {
      "cell_type": "markdown",
      "source": [
        "So, what re can do?\n",
        "\n",
        "Spoiler - a lot"
      ],
      "metadata": {
        "id": "9kzVrNRdVLV1"
      }
    },
    {
      "cell_type": "code",
      "source": [
        "print(help(re))"
      ],
      "metadata": {
        "id": "H1FKoPKVVL1l",
        "colab": {
          "base_uri": "https://localhost:8080/"
        },
        "outputId": "838239a8-748f-4bf9-a2b3-25bf2da5508d"
      },
      "execution_count": null,
      "outputs": [
        {
          "output_type": "stream",
          "name": "stdout",
          "text": [
            "Help on module re:\n",
            "\n",
            "NAME\n",
            "    re - Support for regular expressions (RE).\n",
            "\n",
            "MODULE REFERENCE\n",
            "    https://docs.python.org/3.7/library/re\n",
            "    \n",
            "    The following documentation is automatically generated from the Python\n",
            "    source files.  It may be incomplete, incorrect or include features that\n",
            "    are considered implementation detail and may vary between Python\n",
            "    implementations.  When in doubt, consult the module reference at the\n",
            "    location listed above.\n",
            "\n",
            "DESCRIPTION\n",
            "    This module provides regular expression matching operations similar to\n",
            "    those found in Perl.  It supports both 8-bit and Unicode strings; both\n",
            "    the pattern and the strings being processed can contain null bytes and\n",
            "    characters outside the US ASCII range.\n",
            "    \n",
            "    Regular expressions can contain both special and ordinary characters.\n",
            "    Most ordinary characters, like \"A\", \"a\", or \"0\", are the simplest\n",
            "    regular expressions; they simply match themselves.  You can\n",
            "    concatenate ordinary characters, so last matches the string 'last'.\n",
            "    \n",
            "    The special characters are:\n",
            "        \".\"      Matches any character except a newline.\n",
            "        \"^\"      Matches the start of the string.\n",
            "        \"$\"      Matches the end of the string or just before the newline at\n",
            "                 the end of the string.\n",
            "        \"*\"      Matches 0 or more (greedy) repetitions of the preceding RE.\n",
            "                 Greedy means that it will match as many repetitions as possible.\n",
            "        \"+\"      Matches 1 or more (greedy) repetitions of the preceding RE.\n",
            "        \"?\"      Matches 0 or 1 (greedy) of the preceding RE.\n",
            "        *?,+?,?? Non-greedy versions of the previous three special characters.\n",
            "        {m,n}    Matches from m to n repetitions of the preceding RE.\n",
            "        {m,n}?   Non-greedy version of the above.\n",
            "        \"\\\\\"     Either escapes special characters or signals a special sequence.\n",
            "        []       Indicates a set of characters.\n",
            "                 A \"^\" as the first character indicates a complementing set.\n",
            "        \"|\"      A|B, creates an RE that will match either A or B.\n",
            "        (...)    Matches the RE inside the parentheses.\n",
            "                 The contents can be retrieved or matched later in the string.\n",
            "        (?aiLmsux) The letters set the corresponding flags defined below.\n",
            "        (?:...)  Non-grouping version of regular parentheses.\n",
            "        (?P<name>...) The substring matched by the group is accessible by name.\n",
            "        (?P=name)     Matches the text matched earlier by the group named name.\n",
            "        (?#...)  A comment; ignored.\n",
            "        (?=...)  Matches if ... matches next, but doesn't consume the string.\n",
            "        (?!...)  Matches if ... doesn't match next.\n",
            "        (?<=...) Matches if preceded by ... (must be fixed length).\n",
            "        (?<!...) Matches if not preceded by ... (must be fixed length).\n",
            "        (?(id/name)yes|no) Matches yes pattern if the group with id/name matched,\n",
            "                           the (optional) no pattern otherwise.\n",
            "    \n",
            "    The special sequences consist of \"\\\\\" and a character from the list\n",
            "    below.  If the ordinary character is not on the list, then the\n",
            "    resulting RE will match the second character.\n",
            "        \\number  Matches the contents of the group of the same number.\n",
            "        \\A       Matches only at the start of the string.\n",
            "        \\Z       Matches only at the end of the string.\n",
            "        \\b       Matches the empty string, but only at the start or end of a word.\n",
            "        \\B       Matches the empty string, but not at the start or end of a word.\n",
            "        \\d       Matches any decimal digit; equivalent to the set [0-9] in\n",
            "                 bytes patterns or string patterns with the ASCII flag.\n",
            "                 In string patterns without the ASCII flag, it will match the whole\n",
            "                 range of Unicode digits.\n",
            "        \\D       Matches any non-digit character; equivalent to [^\\d].\n",
            "        \\s       Matches any whitespace character; equivalent to [ \\t\\n\\r\\f\\v] in\n",
            "                 bytes patterns or string patterns with the ASCII flag.\n",
            "                 In string patterns without the ASCII flag, it will match the whole\n",
            "                 range of Unicode whitespace characters.\n",
            "        \\S       Matches any non-whitespace character; equivalent to [^\\s].\n",
            "        \\w       Matches any alphanumeric character; equivalent to [a-zA-Z0-9_]\n",
            "                 in bytes patterns or string patterns with the ASCII flag.\n",
            "                 In string patterns without the ASCII flag, it will match the\n",
            "                 range of Unicode alphanumeric characters (letters plus digits\n",
            "                 plus underscore).\n",
            "                 With LOCALE, it will match the set [0-9_] plus characters defined\n",
            "                 as letters for the current locale.\n",
            "        \\W       Matches the complement of \\w.\n",
            "        \\\\       Matches a literal backslash.\n",
            "    \n",
            "    This module exports the following functions:\n",
            "        match     Match a regular expression pattern to the beginning of a string.\n",
            "        fullmatch Match a regular expression pattern to all of a string.\n",
            "        search    Search a string for the presence of a pattern.\n",
            "        sub       Substitute occurrences of a pattern found in a string.\n",
            "        subn      Same as sub, but also return the number of substitutions made.\n",
            "        split     Split a string by the occurrences of a pattern.\n",
            "        findall   Find all occurrences of a pattern in a string.\n",
            "        finditer  Return an iterator yielding a Match object for each match.\n",
            "        compile   Compile a pattern into a Pattern object.\n",
            "        purge     Clear the regular expression cache.\n",
            "        escape    Backslash all non-alphanumerics in a string.\n",
            "    \n",
            "    Each function other than purge and escape can take an optional 'flags' argument\n",
            "    consisting of one or more of the following module constants, joined by \"|\".\n",
            "    A, L, and U are mutually exclusive.\n",
            "        A  ASCII       For string patterns, make \\w, \\W, \\b, \\B, \\d, \\D\n",
            "                       match the corresponding ASCII character categories\n",
            "                       (rather than the whole Unicode categories, which is the\n",
            "                       default).\n",
            "                       For bytes patterns, this flag is the only available\n",
            "                       behaviour and needn't be specified.\n",
            "        I  IGNORECASE  Perform case-insensitive matching.\n",
            "        L  LOCALE      Make \\w, \\W, \\b, \\B, dependent on the current locale.\n",
            "        M  MULTILINE   \"^\" matches the beginning of lines (after a newline)\n",
            "                       as well as the string.\n",
            "                       \"$\" matches the end of lines (before a newline) as well\n",
            "                       as the end of the string.\n",
            "        S  DOTALL      \".\" matches any character at all, including the newline.\n",
            "        X  VERBOSE     Ignore whitespace and comments for nicer looking RE's.\n",
            "        U  UNICODE     For compatibility only. Ignored for string patterns (it\n",
            "                       is the default), and forbidden for bytes patterns.\n",
            "    \n",
            "    This module also defines an exception 'error'.\n",
            "\n",
            "CLASSES\n",
            "    builtins.Exception(builtins.BaseException)\n",
            "        error\n",
            "    builtins.object\n",
            "        Match\n",
            "        Pattern\n",
            "    \n",
            "    class Match(builtins.object)\n",
            "     |  The result of re.match() and re.search().\n",
            "     |  Match objects always have a boolean value of True.\n",
            "     |  \n",
            "     |  Methods defined here:\n",
            "     |  \n",
            "     |  __copy__(self, /)\n",
            "     |  \n",
            "     |  __deepcopy__(self, memo, /)\n",
            "     |  \n",
            "     |  __getitem__(self, key, /)\n",
            "     |      Return self[key].\n",
            "     |  \n",
            "     |  __repr__(self, /)\n",
            "     |      Return repr(self).\n",
            "     |  \n",
            "     |  end(self, group=0, /)\n",
            "     |      Return index of the end of the substring matched by group.\n",
            "     |  \n",
            "     |  expand(self, /, template)\n",
            "     |      Return the string obtained by doing backslash substitution on the string template, as done by the sub() method.\n",
            "     |  \n",
            "     |  group(...)\n",
            "     |      group([group1, ...]) -> str or tuple.\n",
            "     |      Return subgroup(s) of the match by indices or names.\n",
            "     |      For 0 returns the entire match.\n",
            "     |  \n",
            "     |  groupdict(self, /, default=None)\n",
            "     |      Return a dictionary containing all the named subgroups of the match, keyed by the subgroup name.\n",
            "     |      \n",
            "     |      default\n",
            "     |        Is used for groups that did not participate in the match.\n",
            "     |  \n",
            "     |  groups(self, /, default=None)\n",
            "     |      Return a tuple containing all the subgroups of the match, from 1.\n",
            "     |      \n",
            "     |      default\n",
            "     |        Is used for groups that did not participate in the match.\n",
            "     |  \n",
            "     |  span(self, group=0, /)\n",
            "     |      For match object m, return the 2-tuple (m.start(group), m.end(group)).\n",
            "     |  \n",
            "     |  start(self, group=0, /)\n",
            "     |      Return index of the start of the substring matched by group.\n",
            "     |  \n",
            "     |  ----------------------------------------------------------------------\n",
            "     |  Data descriptors defined here:\n",
            "     |  \n",
            "     |  endpos\n",
            "     |      The index into the string beyond which the RE engine will not go.\n",
            "     |  \n",
            "     |  lastgroup\n",
            "     |      The name of the last matched capturing group.\n",
            "     |  \n",
            "     |  lastindex\n",
            "     |      The integer index of the last matched capturing group.\n",
            "     |  \n",
            "     |  pos\n",
            "     |      The index into the string at which the RE engine started looking for a match.\n",
            "     |  \n",
            "     |  re\n",
            "     |      The regular expression object.\n",
            "     |  \n",
            "     |  regs\n",
            "     |  \n",
            "     |  string\n",
            "     |      The string passed to match() or search().\n",
            "    \n",
            "    class Pattern(builtins.object)\n",
            "     |  Compiled regular expression object.\n",
            "     |  \n",
            "     |  Methods defined here:\n",
            "     |  \n",
            "     |  __copy__(self, /)\n",
            "     |  \n",
            "     |  __deepcopy__(self, memo, /)\n",
            "     |  \n",
            "     |  __eq__(self, value, /)\n",
            "     |      Return self==value.\n",
            "     |  \n",
            "     |  __ge__(self, value, /)\n",
            "     |      Return self>=value.\n",
            "     |  \n",
            "     |  __gt__(self, value, /)\n",
            "     |      Return self>value.\n",
            "     |  \n",
            "     |  __hash__(self, /)\n",
            "     |      Return hash(self).\n",
            "     |  \n",
            "     |  __le__(self, value, /)\n",
            "     |      Return self<=value.\n",
            "     |  \n",
            "     |  __lt__(self, value, /)\n",
            "     |      Return self<value.\n",
            "     |  \n",
            "     |  __ne__(self, value, /)\n",
            "     |      Return self!=value.\n",
            "     |  \n",
            "     |  __repr__(self, /)\n",
            "     |      Return repr(self).\n",
            "     |  \n",
            "     |  findall(self, /, string, pos=0, endpos=9223372036854775807)\n",
            "     |      Return a list of all non-overlapping matches of pattern in string.\n",
            "     |  \n",
            "     |  finditer(self, /, string, pos=0, endpos=9223372036854775807)\n",
            "     |      Return an iterator over all non-overlapping matches for the RE pattern in string.\n",
            "     |      \n",
            "     |      For each match, the iterator returns a match object.\n",
            "     |  \n",
            "     |  fullmatch(self, /, string, pos=0, endpos=9223372036854775807)\n",
            "     |      Matches against all of the string.\n",
            "     |  \n",
            "     |  match(self, /, string, pos=0, endpos=9223372036854775807)\n",
            "     |      Matches zero or more characters at the beginning of the string.\n",
            "     |  \n",
            "     |  scanner(self, /, string, pos=0, endpos=9223372036854775807)\n",
            "     |  \n",
            "     |  search(self, /, string, pos=0, endpos=9223372036854775807)\n",
            "     |      Scan through string looking for a match, and return a corresponding match object instance.\n",
            "     |      \n",
            "     |      Return None if no position in the string matches.\n",
            "     |  \n",
            "     |  split(self, /, string, maxsplit=0)\n",
            "     |      Split string by the occurrences of pattern.\n",
            "     |  \n",
            "     |  sub(self, /, repl, string, count=0)\n",
            "     |      Return the string obtained by replacing the leftmost non-overlapping occurrences of pattern in string by the replacement repl.\n",
            "     |  \n",
            "     |  subn(self, /, repl, string, count=0)\n",
            "     |      Return the tuple (new_string, number_of_subs_made) found by replacing the leftmost non-overlapping occurrences of pattern with the replacement repl.\n",
            "     |  \n",
            "     |  ----------------------------------------------------------------------\n",
            "     |  Data descriptors defined here:\n",
            "     |  \n",
            "     |  flags\n",
            "     |      The regex matching flags.\n",
            "     |  \n",
            "     |  groupindex\n",
            "     |      A dictionary mapping group names to group numbers.\n",
            "     |  \n",
            "     |  groups\n",
            "     |      The number of capturing groups in the pattern.\n",
            "     |  \n",
            "     |  pattern\n",
            "     |      The pattern string from which the RE object was compiled.\n",
            "    \n",
            "    class error(builtins.Exception)\n",
            "     |  error(msg, pattern=None, pos=None)\n",
            "     |  \n",
            "     |  Exception raised for invalid regular expressions.\n",
            "     |  \n",
            "     |  Attributes:\n",
            "     |  \n",
            "     |      msg: The unformatted error message\n",
            "     |      pattern: The regular expression pattern\n",
            "     |      pos: The index in the pattern where compilation failed (may be None)\n",
            "     |      lineno: The line corresponding to pos (may be None)\n",
            "     |      colno: The column corresponding to pos (may be None)\n",
            "     |  \n",
            "     |  Method resolution order:\n",
            "     |      error\n",
            "     |      builtins.Exception\n",
            "     |      builtins.BaseException\n",
            "     |      builtins.object\n",
            "     |  \n",
            "     |  Methods defined here:\n",
            "     |  \n",
            "     |  __init__(self, msg, pattern=None, pos=None)\n",
            "     |      Initialize self.  See help(type(self)) for accurate signature.\n",
            "     |  \n",
            "     |  ----------------------------------------------------------------------\n",
            "     |  Data descriptors defined here:\n",
            "     |  \n",
            "     |  __weakref__\n",
            "     |      list of weak references to the object (if defined)\n",
            "     |  \n",
            "     |  ----------------------------------------------------------------------\n",
            "     |  Static methods inherited from builtins.Exception:\n",
            "     |  \n",
            "     |  __new__(*args, **kwargs) from builtins.type\n",
            "     |      Create and return a new object.  See help(type) for accurate signature.\n",
            "     |  \n",
            "     |  ----------------------------------------------------------------------\n",
            "     |  Methods inherited from builtins.BaseException:\n",
            "     |  \n",
            "     |  __delattr__(self, name, /)\n",
            "     |      Implement delattr(self, name).\n",
            "     |  \n",
            "     |  __getattribute__(self, name, /)\n",
            "     |      Return getattr(self, name).\n",
            "     |  \n",
            "     |  __reduce__(...)\n",
            "     |      Helper for pickle.\n",
            "     |  \n",
            "     |  __repr__(self, /)\n",
            "     |      Return repr(self).\n",
            "     |  \n",
            "     |  __setattr__(self, name, value, /)\n",
            "     |      Implement setattr(self, name, value).\n",
            "     |  \n",
            "     |  __setstate__(...)\n",
            "     |  \n",
            "     |  __str__(self, /)\n",
            "     |      Return str(self).\n",
            "     |  \n",
            "     |  with_traceback(...)\n",
            "     |      Exception.with_traceback(tb) --\n",
            "     |      set self.__traceback__ to tb and return self.\n",
            "     |  \n",
            "     |  ----------------------------------------------------------------------\n",
            "     |  Data descriptors inherited from builtins.BaseException:\n",
            "     |  \n",
            "     |  __cause__\n",
            "     |      exception cause\n",
            "     |  \n",
            "     |  __context__\n",
            "     |      exception context\n",
            "     |  \n",
            "     |  __dict__\n",
            "     |  \n",
            "     |  __suppress_context__\n",
            "     |  \n",
            "     |  __traceback__\n",
            "     |  \n",
            "     |  args\n",
            "\n",
            "FUNCTIONS\n",
            "    compile(pattern, flags=0)\n",
            "        Compile a regular expression pattern, returning a Pattern object.\n",
            "    \n",
            "    escape(pattern)\n",
            "        Escape special characters in a string.\n",
            "    \n",
            "    findall(pattern, string, flags=0)\n",
            "        Return a list of all non-overlapping matches in the string.\n",
            "        \n",
            "        If one or more capturing groups are present in the pattern, return\n",
            "        a list of groups; this will be a list of tuples if the pattern\n",
            "        has more than one group.\n",
            "        \n",
            "        Empty matches are included in the result.\n",
            "    \n",
            "    finditer(pattern, string, flags=0)\n",
            "        Return an iterator over all non-overlapping matches in the\n",
            "        string.  For each match, the iterator returns a Match object.\n",
            "        \n",
            "        Empty matches are included in the result.\n",
            "    \n",
            "    fullmatch(pattern, string, flags=0)\n",
            "        Try to apply the pattern to all of the string, returning\n",
            "        a Match object, or None if no match was found.\n",
            "    \n",
            "    match(pattern, string, flags=0)\n",
            "        Try to apply the pattern at the start of the string, returning\n",
            "        a Match object, or None if no match was found.\n",
            "    \n",
            "    purge()\n",
            "        Clear the regular expression caches\n",
            "    \n",
            "    search(pattern, string, flags=0)\n",
            "        Scan through string looking for a match to the pattern, returning\n",
            "        a Match object, or None if no match was found.\n",
            "    \n",
            "    split(pattern, string, maxsplit=0, flags=0)\n",
            "        Split the source string by the occurrences of the pattern,\n",
            "        returning a list containing the resulting substrings.  If\n",
            "        capturing parentheses are used in pattern, then the text of all\n",
            "        groups in the pattern are also returned as part of the resulting\n",
            "        list.  If maxsplit is nonzero, at most maxsplit splits occur,\n",
            "        and the remainder of the string is returned as the final element\n",
            "        of the list.\n",
            "    \n",
            "    sub(pattern, repl, string, count=0, flags=0)\n",
            "        Return the string obtained by replacing the leftmost\n",
            "        non-overlapping occurrences of the pattern in string by the\n",
            "        replacement repl.  repl can be either a string or a callable;\n",
            "        if a string, backslash escapes in it are processed.  If it is\n",
            "        a callable, it's passed the Match object and must return\n",
            "        a replacement string to be used.\n",
            "    \n",
            "    subn(pattern, repl, string, count=0, flags=0)\n",
            "        Return a 2-tuple containing (new_string, number).\n",
            "        new_string is the string obtained by replacing the leftmost\n",
            "        non-overlapping occurrences of the pattern in the source\n",
            "        string by the replacement repl.  number is the number of\n",
            "        substitutions that were made. repl can be either a string or a\n",
            "        callable; if a string, backslash escapes in it are processed.\n",
            "        If it is a callable, it's passed the Match object and must\n",
            "        return a replacement string to be used.\n",
            "    \n",
            "    template(pattern, flags=0)\n",
            "        Compile a template pattern, returning a Pattern object\n",
            "\n",
            "DATA\n",
            "    A = <RegexFlag.ASCII: 256>\n",
            "    ASCII = <RegexFlag.ASCII: 256>\n",
            "    DOTALL = <RegexFlag.DOTALL: 16>\n",
            "    I = <RegexFlag.IGNORECASE: 2>\n",
            "    IGNORECASE = <RegexFlag.IGNORECASE: 2>\n",
            "    L = <RegexFlag.LOCALE: 4>\n",
            "    LOCALE = <RegexFlag.LOCALE: 4>\n",
            "    M = <RegexFlag.MULTILINE: 8>\n",
            "    MULTILINE = <RegexFlag.MULTILINE: 8>\n",
            "    S = <RegexFlag.DOTALL: 16>\n",
            "    U = <RegexFlag.UNICODE: 32>\n",
            "    UNICODE = <RegexFlag.UNICODE: 32>\n",
            "    VERBOSE = <RegexFlag.VERBOSE: 64>\n",
            "    X = <RegexFlag.VERBOSE: 64>\n",
            "    __all__ = ['match', 'fullmatch', 'search', 'sub', 'subn', 'split', 'fi...\n",
            "\n",
            "VERSION\n",
            "    2.2.1\n",
            "\n",
            "FILE\n",
            "    /usr/lib/python3.7/re.py\n",
            "\n",
            "\n",
            "None\n"
          ]
        }
      ]
    },
    {
      "cell_type": "markdown",
      "source": [
        "# Lets do some tasks"
      ],
      "metadata": {
        "id": "bAwFWxT3VYrs"
      }
    },
    {
      "cell_type": "markdown",
      "source": [
        "Let's find a digit in a string\n",
        "\n",
        "Which can be usefull as a preprocessing tool\n",
        "\n",
        "`\\d`- some digit between 0 and 9\n",
        "\n",
        "`\\` (backslash) escape special characters"
      ],
      "metadata": {
        "id": "RBJc4aEuVlsc"
      }
    },
    {
      "cell_type": "code",
      "source": [
        "target_str = \"My phone number is +1-234-567-89 dude privet\"\n",
        "res = re.findall(r\"\\d\", target_str)\n",
        "\n",
        "print(res)"
      ],
      "metadata": {
        "colab": {
          "base_uri": "https://localhost:8080/"
        },
        "id": "Z7QPRwJYVlBL",
        "outputId": "d949abe4-9670-46d0-9e18-9cf9f65b6901"
      },
      "execution_count": null,
      "outputs": [
        {
          "output_type": "stream",
          "name": "stdout",
          "text": [
            "['1', '2', '3', '4', '5', '6', '7', '8', '9']\n"
          ]
        }
      ]
    },
    {
      "cell_type": "code",
      "source": [
        "res = re.findall(r\"d\", target_str)\n",
        "\n",
        "print(res)"
      ],
      "metadata": {
        "colab": {
          "base_uri": "https://localhost:8080/"
        },
        "id": "eHFRquI3qDZj",
        "outputId": "6d7a40b9-daa6-404b-c423-c1dd5753dc56"
      },
      "execution_count": null,
      "outputs": [
        {
          "output_type": "stream",
          "name": "stdout",
          "text": [
            "['d', 'd']\n"
          ]
        }
      ]
    },
    {
      "cell_type": "markdown",
      "source": [
        "What if we wanted to stack numbers together\n",
        "\n",
        "`\\d` and `+` (Plus)\n",
        "\n",
        "1 or more repetitions of the regex"
      ],
      "metadata": {
        "id": "9Zs-k6qwWRV9"
      }
    },
    {
      "cell_type": "code",
      "source": [
        "res = re.findall(r\"\\d+\", target_str)\n",
        "\n",
        "print(res)"
      ],
      "metadata": {
        "colab": {
          "base_uri": "https://localhost:8080/"
        },
        "id": "Wor9FhhLWQ18",
        "outputId": "bf6a3974-d488-4205-9091-3858c2f143bc"
      },
      "execution_count": null,
      "outputs": [
        {
          "output_type": "stream",
          "name": "stdout",
          "text": [
            "['1', '234', '567', '89']\n"
          ]
        }
      ]
    },
    {
      "cell_type": "markdown",
      "source": [
        "**Task**\n",
        "\n",
        "Write a code that would output a list of digits as integers"
      ],
      "metadata": {
        "id": "igBU56bOXHom"
      }
    },
    {
      "cell_type": "code",
      "source": [
        "# write your code here\n",
        "\n",
        "res_int = []\n",
        "\n",
        "for x in res:\n",
        "    res_int.append(int(x))\n",
        "res_int"
      ],
      "metadata": {
        "id": "N_O0j2pkXXrU",
        "colab": {
          "base_uri": "https://localhost:8080/"
        },
        "outputId": "3abf4637-e76f-452a-eb7a-90fd43215f6c"
      },
      "execution_count": null,
      "outputs": [
        {
          "output_type": "execute_result",
          "data": {
            "text/plain": [
              "[1, 234, 567, 89]"
            ]
          },
          "metadata": {},
          "execution_count": 6
        }
      ]
    },
    {
      "cell_type": "markdown",
      "source": [
        "**RegEx Metacharacters**"
      ],
      "metadata": {
        "id": "b_AtS9QPfS7j"
      }
    },
    {
      "cell_type": "markdown",
      "source": [
        "\n",
        "\n",
        "`.` (DOT)\n",
        "\n",
        "any character except a newline."
      ],
      "metadata": {
        "id": "uK189cyRdI_j"
      }
    },
    {
      "cell_type": "code",
      "source": [
        "res = re.findall(r\".\", target_str)\n",
        "\n",
        "print(res)"
      ],
      "metadata": {
        "colab": {
          "base_uri": "https://localhost:8080/"
        },
        "id": "9KCLefXOeYu7",
        "outputId": "87f72cf2-8e71-4a5f-f663-d1eb59c6cbaa"
      },
      "execution_count": null,
      "outputs": [
        {
          "output_type": "stream",
          "name": "stdout",
          "text": [
            "['M', 'y', ' ', 'p', 'h', 'o', 'n', 'e', ' ', 'n', 'u', 'm', 'b', 'e', 'r', ' ', 'i', 's', ' ', '+', '1', '-', '2', '3', '4', '-', '5', '6', '7', '-', '8', '9', ' ', 'd', 'u', 'd', 'e', ' ', 'p', 'r', 'i', 'v', 'e', 't']\n"
          ]
        }
      ]
    },
    {
      "cell_type": "markdown",
      "source": [
        "`^` (Caret)\n",
        "\n",
        "pattern only at the start of the string"
      ],
      "metadata": {
        "id": "VjEwytrkfOuT"
      }
    },
    {
      "cell_type": "code",
      "source": [
        "res = re.findall(r\"^.\", target_str)\n",
        "\n",
        "print(res)"
      ],
      "metadata": {
        "colab": {
          "base_uri": "https://localhost:8080/"
        },
        "id": "aaNvBO2Oe2fz",
        "outputId": "fd21fe3d-4cc1-4030-b3ee-286c05fa91e6"
      },
      "execution_count": null,
      "outputs": [
        {
          "output_type": "stream",
          "name": "stdout",
          "text": [
            "['M']\n"
          ]
        }
      ]
    },
    {
      "cell_type": "markdown",
      "source": [
        "`$` (Dollar)\n",
        "\n",
        "pattern at the end of the string"
      ],
      "metadata": {
        "id": "1mjk8a5Afb-8"
      }
    },
    {
      "cell_type": "code",
      "source": [
        "res = re.findall(r\".$\", target_str)\n",
        "\n",
        "print(res)"
      ],
      "metadata": {
        "colab": {
          "base_uri": "https://localhost:8080/"
        },
        "id": "WYlCFSGYfN-r",
        "outputId": "726e5445-d808-4532-8ef0-e9481ed37759"
      },
      "execution_count": null,
      "outputs": [
        {
          "output_type": "stream",
          "name": "stdout",
          "text": [
            "['t']\n"
          ]
        }
      ]
    },
    {
      "cell_type": "markdown",
      "source": [
        "`*` (asterisk)\n",
        "\n",
        "0 or more repetitions of the regex"
      ],
      "metadata": {
        "id": "lTDpLmblgU2r"
      }
    },
    {
      "cell_type": "code",
      "source": [
        "res = re.findall(r\"\\d*\", target_str)\n",
        "\n",
        "print(res)"
      ],
      "metadata": {
        "colab": {
          "base_uri": "https://localhost:8080/"
        },
        "id": "m3eI10-0gYTK",
        "outputId": "6cbc4fa8-0bd5-47ab-81d9-e39aaf630dda"
      },
      "execution_count": null,
      "outputs": [
        {
          "output_type": "stream",
          "name": "stdout",
          "text": [
            "['', '', '', '', '', '', '', '', '', '', '', '', '', '', '', '', '', '', '', '', '1', '', '234', '', '567', '', '89', '', '', '', '', '', '', '', '', '', '', '', '', '']\n"
          ]
        }
      ]
    },
    {
      "cell_type": "markdown",
      "source": [
        "something to find f.e. words with endings"
      ],
      "metadata": {
        "id": "VNCyf-rMrysN"
      }
    },
    {
      "cell_type": "code",
      "source": [
        "res = re.findall(r\"er*\", target_str)\n",
        "\n",
        "print(res)"
      ],
      "metadata": {
        "colab": {
          "base_uri": "https://localhost:8080/"
        },
        "id": "Rc8o6_O8reB9",
        "outputId": "5a981378-d836-4f5e-fe63-77958b52757e"
      },
      "execution_count": null,
      "outputs": [
        {
          "output_type": "stream",
          "name": "stdout",
          "text": [
            "['e', 'er', 'e', 'e']\n"
          ]
        }
      ]
    },
    {
      "cell_type": "markdown",
      "source": [
        "weird way to find all stacked digits?"
      ],
      "metadata": {
        "id": "_ibyNtz1ruPU"
      }
    },
    {
      "cell_type": "code",
      "source": [
        "res = re.findall(r\"\\d\\d*\", target_str)\n",
        "\n",
        "print(res)"
      ],
      "metadata": {
        "colab": {
          "base_uri": "https://localhost:8080/"
        },
        "id": "QK8qKmDqg3-k",
        "outputId": "300eea0c-f2ff-4e48-997b-40e17cd94f7c"
      },
      "execution_count": null,
      "outputs": [
        {
          "output_type": "stream",
          "name": "stdout",
          "text": [
            "['1', '234', '567', '89']\n"
          ]
        }
      ]
    },
    {
      "cell_type": "markdown",
      "source": [
        "`?` (Question mark)\n",
        "\n",
        "0 or 1 repetition of the regex"
      ],
      "metadata": {
        "id": "CgRlqE7mg3N7"
      }
    },
    {
      "cell_type": "code",
      "source": [
        "res = re.findall(r\"\\d?\", target_str)\n",
        "\n",
        "print(res)"
      ],
      "metadata": {
        "colab": {
          "base_uri": "https://localhost:8080/"
        },
        "id": "lEroKNWViU_U",
        "outputId": "6004aefc-317e-494b-aea1-a56e4526a864"
      },
      "execution_count": null,
      "outputs": [
        {
          "output_type": "stream",
          "name": "stdout",
          "text": [
            "['', '', '', '', '', '', '', '', '', '', '', '', '', '', '', '', '', '', '', '', '1', '', '2', '3', '4', '', '5', '6', '7', '', '8', '9', '', '', '', '', '', '', '', '', '', '', '', '', '']\n"
          ]
        }
      ]
    },
    {
      "cell_type": "markdown",
      "source": [
        "lets fing 2-3 digit numbers"
      ],
      "metadata": {
        "id": "zCjj7rg-sa3C"
      }
    },
    {
      "cell_type": "code",
      "source": [
        "res = re.findall(r\"\\d\\d\\d?\", target_str)\n",
        "\n",
        "print(res)"
      ],
      "metadata": {
        "colab": {
          "base_uri": "https://localhost:8080/"
        },
        "id": "HJE0pt70hco7",
        "outputId": "278737d1-305d-45a5-c6bb-f592d71425aa"
      },
      "execution_count": null,
      "outputs": [
        {
          "output_type": "stream",
          "name": "stdout",
          "text": [
            "['234', '567', '89']\n"
          ]
        }
      ]
    },
    {
      "cell_type": "markdown",
      "source": [
        "`[ ]` (Square brackets)\n",
        "\n",
        "a set of characters. Matches any single character in brackets\n",
        "\n"
      ],
      "metadata": {
        "id": "35n2XQrsngPj"
      }
    },
    {
      "cell_type": "code",
      "source": [
        "res = re.findall(r\"[pd]..\", target_str)\n",
        "\n",
        "print(res)"
      ],
      "metadata": {
        "colab": {
          "base_uri": "https://localhost:8080/"
        },
        "id": "QZxzd2PPnpHL",
        "outputId": "1db12e83-ed0c-423e-82b4-05cfbc712b48"
      },
      "execution_count": null,
      "outputs": [
        {
          "output_type": "stream",
          "name": "stdout",
          "text": [
            "['pho', 'dud', 'pri']\n"
          ]
        }
      ]
    },
    {
      "cell_type": "markdown",
      "source": [
        "it could be a combination of stuff"
      ],
      "metadata": {
        "id": "SpUiLCV-XJs9"
      }
    },
    {
      "cell_type": "code",
      "source": [
        "res = re.findall(r\"[pd][rh]\\w+\", target_str)\n",
        "\n",
        "print(res)"
      ],
      "metadata": {
        "colab": {
          "base_uri": "https://localhost:8080/"
        },
        "id": "hLP5hfFcstb6",
        "outputId": "6beefd31-c8f5-40d5-b815-f5574cc9423f"
      },
      "execution_count": null,
      "outputs": [
        {
          "output_type": "stream",
          "name": "stdout",
          "text": [
            "['phone', 'privet']\n"
          ]
        }
      ]
    },
    {
      "cell_type": "markdown",
      "source": [
        "`[^ ]` any single character not in brackets"
      ],
      "metadata": {
        "id": "gw0rR2tsp2nU"
      }
    },
    {
      "cell_type": "code",
      "source": [
        "res = re.findall(r\"[^0-9]\", target_str)\n",
        "\n",
        "print(res)"
      ],
      "metadata": {
        "id": "zOEA6bFPp2Az",
        "colab": {
          "base_uri": "https://localhost:8080/"
        },
        "outputId": "d9faf993-71de-418d-f920-4ee2f250fc0a"
      },
      "execution_count": null,
      "outputs": [
        {
          "output_type": "stream",
          "name": "stdout",
          "text": [
            "['M', 'y', ' ', 'p', 'h', 'o', 'n', 'e', ' ', 'n', 'u', 'm', 'b', 'e', 'r', ' ', 'i', 's', ' ', '+', '-', '-', '-', ' ', 'd', 'u', 'd', 'e', ' ', 'p', 'r', 'i', 'v', 'e', 't']\n"
          ]
        }
      ]
    },
    {
      "cell_type": "markdown",
      "source": [
        "`( )` everything inside is a pattern as a whole"
      ],
      "metadata": {
        "id": "G_agblokXwP8"
      }
    },
    {
      "cell_type": "code",
      "source": [
        "res = re.findall(r\"(234)\", target_str)\n",
        "\n",
        "print(res)"
      ],
      "metadata": {
        "colab": {
          "base_uri": "https://localhost:8080/"
        },
        "id": "kMasGilcXwqn",
        "outputId": "28d13fb2-9dce-432c-aa23-60d733bda2d5"
      },
      "execution_count": null,
      "outputs": [
        {
          "output_type": "stream",
          "name": "stdout",
          "text": [
            "['234']\n"
          ]
        }
      ]
    },
    {
      "cell_type": "markdown",
      "source": [
        "`{}` - nice brackets\n",
        "\n",
        "to specify particular number of mathes"
      ],
      "metadata": {
        "id": "nfIlJIZZZ4YS"
      }
    },
    {
      "cell_type": "markdown",
      "source": [
        "exact number of repetitions"
      ],
      "metadata": {
        "id": "jqIZTyxvaR-6"
      }
    },
    {
      "cell_type": "code",
      "source": [
        "res = re.findall(r\"\\d{3}\", target_str)\n",
        "\n",
        "print(res)"
      ],
      "metadata": {
        "colab": {
          "base_uri": "https://localhost:8080/"
        },
        "id": "YMO-IwqRaD0u",
        "outputId": "f075ac4e-0e68-4c51-d685-932941edfa33"
      },
      "execution_count": null,
      "outputs": [
        {
          "output_type": "stream",
          "name": "stdout",
          "text": [
            "['234', '567']\n"
          ]
        }
      ]
    },
    {
      "cell_type": "markdown",
      "source": [
        "from low boundary to upper boundary"
      ],
      "metadata": {
        "id": "voHvc6U_aVkH"
      }
    },
    {
      "cell_type": "code",
      "source": [
        "res = re.findall(r\"\\d{1,3}\", target_str)\n",
        "\n",
        "print(res)"
      ],
      "metadata": {
        "colab": {
          "base_uri": "https://localhost:8080/"
        },
        "id": "wBwy_-BhaJ4y",
        "outputId": "f27cf9d7-6bd3-425b-eadd-23649c95b7ab"
      },
      "execution_count": null,
      "outputs": [
        {
          "output_type": "stream",
          "name": "stdout",
          "text": [
            "['1', '234', '567', '89']\n"
          ]
        }
      ]
    },
    {
      "cell_type": "markdown",
      "source": [
        "at least times"
      ],
      "metadata": {
        "id": "xvLnpH9Takol"
      }
    },
    {
      "cell_type": "code",
      "source": [
        "res = re.findall(r\"\\d{2,}\", target_str)\n",
        "\n",
        "print(res)"
      ],
      "metadata": {
        "colab": {
          "base_uri": "https://localhost:8080/"
        },
        "id": "oRbsel-xaPG6",
        "outputId": "4053941a-ab96-4c04-e20f-1e4543f9804e"
      },
      "execution_count": null,
      "outputs": [
        {
          "output_type": "stream",
          "name": "stdout",
          "text": [
            "['234', '567', '89']\n"
          ]
        }
      ]
    },
    {
      "cell_type": "markdown",
      "source": [
        "# Some special Character Classes"
      ],
      "metadata": {
        "id": "Qp4iaVV-YXjh"
      }
    },
    {
      "cell_type": "markdown",
      "source": [
        "`\\d` is equivelent to `[0-9]` any digit\n",
        "\n",
        "`\\D` is equivelent to `[^0-9]` any non-digit\n",
        "\n",
        "`\\s` is equivelent to `[ \\t\\n\\x0b\\r\\f]` any whitespace character\n",
        "\n",
        "`\\S` is equivelent to `[^ \\t\\n\\x0b\\r\\f]` any non-whitespace character\n",
        "\n",
        "`\\w` is equivelent to `[a-zA-Z_0-9]` any alphanumeric character\n",
        "\n",
        "`\\W` is equivelent to `[^a-zA-Z_0-9]` any non-alphanumeric character\n",
        "\n",
        "`\\b` is to find empty string at the beginning or end of a word\n",
        "\n",
        "`\\B` is somehow the opposite"
      ],
      "metadata": {
        "id": "HzcJHrv_n5WE"
      }
    },
    {
      "cell_type": "code",
      "source": [
        "res = re.findall(r\"\\B\\w+\\B\", target_str)\n",
        "\n",
        "print(res)"
      ],
      "metadata": {
        "colab": {
          "base_uri": "https://localhost:8080/"
        },
        "id": "ocIme3ljbyn0",
        "outputId": "7e433440-907a-4c42-90cf-fdda9591acdb"
      },
      "execution_count": null,
      "outputs": [
        {
          "output_type": "stream",
          "name": "stdout",
          "text": [
            "['hon', 'umbe', '3', '6', 'ud', 'rive']\n"
          ]
        }
      ]
    },
    {
      "cell_type": "code",
      "source": [
        "res = re.findall(r\"\\b\\w+\\b\", target_str)\n",
        "\n",
        "print(res)"
      ],
      "metadata": {
        "colab": {
          "base_uri": "https://localhost:8080/"
        },
        "id": "Mk1l6isECMnV",
        "outputId": "42887985-c3e7-4581-a300-bf0ece53e476"
      },
      "execution_count": null,
      "outputs": [
        {
          "output_type": "stream",
          "name": "stdout",
          "text": [
            "['My', 'phone', 'number', 'is', '1', '234', '567', '89', 'dude', 'privet']\n"
          ]
        }
      ]
    },
    {
      "cell_type": "markdown",
      "source": [
        "**Task**\n",
        "\n",
        "Write code to extract phone number as a whole sting (all the pluss, numbers and dashes)"
      ],
      "metadata": {
        "id": "HIjinIDJZByF"
      }
    },
    {
      "cell_type": "code",
      "source": [
        "# write your code here"
      ],
      "metadata": {
        "id": "NjmLvMASn46T",
        "colab": {
          "base_uri": "https://localhost:8080/"
        },
        "outputId": "72c2bfa6-caed-456c-d2d6-f58b18028697"
      },
      "execution_count": null,
      "outputs": [
        {
          "output_type": "stream",
          "name": "stdout",
          "text": [
            "['+1-234-567-89']\n"
          ]
        }
      ]
    },
    {
      "cell_type": "markdown",
      "source": [
        "**Task**\n",
        "\n",
        "Find all 4-5 letter words"
      ],
      "metadata": {
        "id": "evSuFuPGbEkz"
      }
    },
    {
      "cell_type": "code",
      "source": [
        "# write your code here\n"
      ],
      "metadata": {
        "colab": {
          "base_uri": "https://localhost:8080/"
        },
        "id": "SpAxge3ra-_e",
        "outputId": "45dfbd69-5f64-4c42-bc3b-b600cbd64642"
      },
      "execution_count": null,
      "outputs": [
        {
          "output_type": "stream",
          "name": "stdout",
          "text": [
            "['phone', 'dude']\n"
          ]
        }
      ]
    },
    {
      "cell_type": "markdown",
      "source": [
        "# Something about methods"
      ],
      "metadata": {
        "id": "UCdbUaAMaSVE"
      }
    },
    {
      "cell_type": "code",
      "source": [
        "target_string = \"Toss a 300$ to a Witcher\""
      ],
      "metadata": {
        "id": "DdaNI7h9aCxE"
      },
      "execution_count": null,
      "outputs": []
    },
    {
      "cell_type": "markdown",
      "source": [
        "`re.compile('pattern')`\n",
        "\n",
        "to save a pattern as a variable to be used in the future\n",
        "\n",
        "just not to boringly \"copy-paste\" and to avoid mistakes\n"
      ],
      "metadata": {
        "id": "u6ztadeLdmTj"
      }
    },
    {
      "cell_type": "code",
      "source": [
        "str_pattern = r\"\\w+\"\n",
        "pattern = re.compile(str_pattern)\n",
        "pattern"
      ],
      "metadata": {
        "colab": {
          "base_uri": "https://localhost:8080/"
        },
        "id": "C8TrO5gqbVu9",
        "outputId": "62e5c424-125a-42bd-97f1-eb9a83a102c9"
      },
      "execution_count": null,
      "outputs": [
        {
          "output_type": "execute_result",
          "data": {
            "text/plain": [
              "re.compile(r'\\w+', re.UNICODE)"
            ]
          },
          "metadata": {},
          "execution_count": 39
        }
      ]
    },
    {
      "cell_type": "markdown",
      "source": [
        "then we can apply different methods to the pattern"
      ],
      "metadata": {
        "id": "7Ga0lXL5iax4"
      }
    },
    {
      "cell_type": "markdown",
      "source": [
        "`re.match(pattern, str)`\n",
        "\n",
        "return a match at the start of the string\n"
      ],
      "metadata": {
        "id": "1cBDYQxVjS5o"
      }
    },
    {
      "cell_type": "code",
      "source": [
        "res = pattern.match(target_string)\n",
        "\n",
        "print(res.group())"
      ],
      "metadata": {
        "colab": {
          "base_uri": "https://localhost:8080/"
        },
        "id": "kCGmnhLLbU2M",
        "outputId": "2551b0ae-797b-4647-f91e-bd8702425038"
      },
      "execution_count": null,
      "outputs": [
        {
          "output_type": "stream",
          "name": "stdout",
          "text": [
            "Toss\n"
          ]
        }
      ]
    },
    {
      "cell_type": "code",
      "source": [
        "print(res.start())"
      ],
      "metadata": {
        "colab": {
          "base_uri": "https://localhost:8080/"
        },
        "id": "UVuGOFELlyOW",
        "outputId": "9428991a-b612-4a97-9989-7acd436fc42b"
      },
      "execution_count": null,
      "outputs": [
        {
          "output_type": "stream",
          "name": "stdout",
          "text": [
            "0\n"
          ]
        }
      ]
    },
    {
      "cell_type": "code",
      "source": [
        "print(res.end())"
      ],
      "metadata": {
        "colab": {
          "base_uri": "https://localhost:8080/"
        },
        "id": "WeUBO-BTl7OC",
        "outputId": "e7a0a842-6a54-4144-8329-e1970799adda"
      },
      "execution_count": null,
      "outputs": [
        {
          "output_type": "stream",
          "name": "stdout",
          "text": [
            "4\n"
          ]
        }
      ]
    },
    {
      "cell_type": "code",
      "source": [
        "print(res.span())"
      ],
      "metadata": {
        "colab": {
          "base_uri": "https://localhost:8080/"
        },
        "id": "QLZ0H0VGl9sx",
        "outputId": "131f77e6-a0a7-4094-9613-a61c4d3d0284"
      },
      "execution_count": null,
      "outputs": [
        {
          "output_type": "stream",
          "name": "stdout",
          "text": [
            "(0, 4)\n"
          ]
        }
      ]
    },
    {
      "cell_type": "markdown",
      "source": [
        "`re.search(pattern, str)`\n",
        "\n",
        "search regex pattern anywhere inside string\n"
      ],
      "metadata": {
        "id": "6LVfTU4wk0_r"
      }
    },
    {
      "cell_type": "code",
      "source": [
        "res = re.search(r\"\\d+\", target_string)\n",
        "print(res.group())"
      ],
      "metadata": {
        "colab": {
          "base_uri": "https://localhost:8080/"
        },
        "id": "yPgCeZIkbTZV",
        "outputId": "11b9703b-a35f-4fbb-c2d4-c6c067fce331"
      },
      "execution_count": null,
      "outputs": [
        {
          "output_type": "stream",
          "name": "stdout",
          "text": [
            "300\n"
          ]
        }
      ]
    },
    {
      "cell_type": "markdown",
      "source": [
        "`re.findall(pattern, str)`\n",
        "\n",
        "Scans the regex pattern through the entire string and returns all matches"
      ],
      "metadata": {
        "id": "uTzIyCo5lqrS"
      }
    },
    {
      "cell_type": "code",
      "source": [
        "res = re.findall(r\"\\w+\", target_string)\n",
        "print(res)"
      ],
      "metadata": {
        "colab": {
          "base_uri": "https://localhost:8080/"
        },
        "id": "OlWkkcvibSW8",
        "outputId": "fa1e2621-8c66-429b-d207-8102875a88e4"
      },
      "execution_count": null,
      "outputs": [
        {
          "output_type": "stream",
          "name": "stdout",
          "text": [
            "['Toss', 'a', '300', 'to', 'a', 'Witcher']\n"
          ]
        }
      ]
    },
    {
      "cell_type": "markdown",
      "source": [
        "`re.split(pattern, str)`\n",
        "\n",
        "It breaks a string into a list of matches as per the given regular expression pattern."
      ],
      "metadata": {
        "id": "ryoyPoOrmjic"
      }
    },
    {
      "cell_type": "code",
      "source": [
        "res = re.split(r\"\\s\", target_string)\n",
        "print(\"All tokens:\", res)"
      ],
      "metadata": {
        "colab": {
          "base_uri": "https://localhost:8080/"
        },
        "id": "GVq_kEzYbRLE",
        "outputId": "bdb61eb5-dd54-444d-ea3b-b1eee6bb7a93"
      },
      "execution_count": null,
      "outputs": [
        {
          "output_type": "stream",
          "name": "stdout",
          "text": [
            "All tokens: ['Toss', 'a', '300$', 'to', 'a', 'Witcher']\n"
          ]
        }
      ]
    },
    {
      "cell_type": "code",
      "source": [
        "target_str = \"My phone number is (wait for it) \\n +1-234-567-89\"\n",
        "\n",
        "res = re.split(\"\\n\", target_str)\n",
        "\n",
        "print(res)"
      ],
      "metadata": {
        "colab": {
          "base_uri": "https://localhost:8080/"
        },
        "id": "ZKtni89cf7Tj",
        "outputId": "01917137-5ead-45ae-bc5a-3fcbf105b630"
      },
      "execution_count": null,
      "outputs": [
        {
          "output_type": "stream",
          "name": "stdout",
          "text": [
            "['My phone number is (wait for it) ', ' +1-234-567-89']\n"
          ]
        }
      ]
    },
    {
      "cell_type": "markdown",
      "source": [
        "`re.sub(pattern, replacement, str)`\n",
        "\n",
        "Replace one or more occurrences of a pattern in the string with a `replacement`\n"
      ],
      "metadata": {
        "id": "nhlvllZ8mxe5"
      }
    },
    {
      "cell_type": "code",
      "source": [
        "res = re.sub(r\"\\s\", \"_SPACE_\", target_string)\n",
        "\n",
        "print(res)"
      ],
      "metadata": {
        "colab": {
          "base_uri": "https://localhost:8080/"
        },
        "id": "ZSFKvDTJbQFU",
        "outputId": "26e8b8da-f547-4c59-c62c-fd573483fad8"
      },
      "execution_count": null,
      "outputs": [
        {
          "output_type": "stream",
          "name": "stdout",
          "text": [
            "Toss_SPACE_a_SPACE_300$_SPACE_to_SPACE_a_SPACE_Witcher\n"
          ]
        }
      ]
    },
    {
      "cell_type": "code",
      "source": [
        "res = re.sub(r\"\\d+\", \"threehundred\", target_string)\n",
        "\n",
        "print(res)"
      ],
      "metadata": {
        "colab": {
          "base_uri": "https://localhost:8080/"
        },
        "id": "1jkHfw9enW9N",
        "outputId": "bbfdbc17-51f5-4bd7-8d9f-3d1ab24d5bc8"
      },
      "execution_count": null,
      "outputs": [
        {
          "output_type": "stream",
          "name": "stdout",
          "text": [
            "Toss a threehundred$ to a Witcher\n"
          ]
        }
      ]
    },
    {
      "cell_type": "markdown",
      "source": [
        "# THE TASKS"
      ],
      "metadata": {
        "id": "PAs8nHHfGBZ5"
      }
    },
    {
      "cell_type": "markdown",
      "source": [
        "* Write a code\n",
        "* Prove that it works\n",
        "\n",
        "Heavily inspired by this [Kaggle Post](https://www.kaggle.com/code/albeffe/regex-exercises-solutions)\n",
        "\n",
        "Some are directly taken, some are modified. But credit is worth giving"
      ],
      "metadata": {
        "id": "E8ozlVVZJVdy"
      }
    },
    {
      "cell_type": "markdown",
      "source": [
        "*1*) Write a Python program to check that a string contains only a certain set of characters (in this case a-z, A-Z and 0-9)."
      ],
      "metadata": {
        "id": "NDgiUrnjGUZb"
      }
    },
    {
      "cell_type": "code",
      "source": [
        "# write your code here\n",
        "\n",
        "import re\n",
        "\n",
        "# The regular expression pattern for lowercase letters\n",
        "pattern = r'^[a-z]+$'\n",
        "\n",
        "# Test strings\n",
        "test_string1 = \"hello\"\n",
        "test_string2 = \"Hello123\"\n",
        "\n",
        "# Check if test_string1 contains only lowercase letters\n",
        "if re.match(pattern, test_string1):\n",
        "    print(f\"'{test_string1}' contains only lowercase letters.\")\n",
        "else:\n",
        "    print(f\"'{test_string1}' contains characters other than lowercase letters.\")\n",
        "\n",
        "# Check if test_string2 contains only lowercase letters\n",
        "if re.match(pattern, test_string2):\n",
        "    print(f\"'{test_string2}' contains only lowercase letters.\")\n",
        "else:\n",
        "    print(f\"'{test_string2}' contains characters other than lowercase letters.\")\n"
      ],
      "metadata": {
        "id": "UmMaQYN6GSHp"
      },
      "execution_count": null,
      "outputs": []
    },
    {
      "cell_type": "markdown",
      "source": [
        "**Results :** <br>\n",
        "'hello' contains only lowercase letters.<br>\n",
        "'Hello123' contains characters other than lowercase letters.\n"
      ],
      "metadata": {
        "id": "X6luAoh-Q8Wq"
      }
    },
    {
      "cell_type": "markdown",
      "source": [
        "2) Write a Python program that matches a string that has an `1` followed by zero or more `0`'s\n",
        "\n",
        "\n",
        "\n"
      ],
      "metadata": {
        "id": "eiQrGNtWGzZ0"
      }
    },
    {
      "cell_type": "code",
      "source": [
        "# write your code here\n",
        "\n",
        "import re\n",
        "\n",
        "pattern = r'10*'\n",
        "\n",
        "test_strings = [\"100001\", \"0000\", \"101010\", \"11\", \"0\"]\n",
        "\n",
        "for test_string in test_strings:\n",
        "    if re.match(pattern, test_string):\n",
        "        print(f\"'{test_string}' is a valid match.\")\n",
        "    else:\n",
        "        print(f\"'{test_string}' is not a valid match.\")\n"
      ],
      "metadata": {
        "id": "J7ta0NQAG9sc"
      },
      "execution_count": null,
      "outputs": []
    },
    {
      "cell_type": "markdown",
      "source": [
        "**Results :** <br>\n",
        "'100001' is a valid match.<br>\n",
        "'0000' is a valid match.<br>\n",
        "'101010' is a valid match.<br>\n",
        "'11' is not a valid match.<br>\n",
        "'0' is not a valid match.\n"
      ],
      "metadata": {
        "id": "SO5TorQ0R5Ay"
      }
    },
    {
      "cell_type": "code",
      "source": [],
      "metadata": {
        "id": "6Riq8vIdR4IB"
      },
      "execution_count": null,
      "outputs": []
    },
    {
      "cell_type": "markdown",
      "source": [
        "3) Write a Python program that matches a string that has an `:` followed by one or more `)`'s"
      ],
      "metadata": {
        "id": "ZyI9Ebl_G-fT"
      }
    },
    {
      "cell_type": "code",
      "source": [
        "# write your code here"
      ],
      "metadata": {
        "id": "zkdk5rhsHJtk"
      },
      "execution_count": null,
      "outputs": []
    },
    {
      "cell_type": "markdown",
      "source": [
        "4) Write a Python program that matches a string that has an `digit` (any number) followed by zero or one  `non-alphabetic character`"
      ],
      "metadata": {
        "id": "AguEBHn7HKGO"
      }
    },
    {
      "cell_type": "code",
      "source": [
        "# write your code here"
      ],
      "metadata": {
        "id": "wTTx-7SJHy0U"
      },
      "execution_count": null,
      "outputs": []
    },
    {
      "cell_type": "markdown",
      "source": [
        "5) Write a Python program that matches a string that has an `I` followed by three `E`"
      ],
      "metadata": {
        "id": "wDBy9SSFH9ts"
      }
    },
    {
      "cell_type": "code",
      "source": [
        "# write your code here"
      ],
      "metadata": {
        "id": "_HGnWoWFIHKp"
      },
      "execution_count": null,
      "outputs": []
    },
    {
      "cell_type": "markdown",
      "source": [
        "6) Write a Python program that matches a string that has an `l` followed by two to three `3`."
      ],
      "metadata": {
        "id": "rw7CDmb9I8gL"
      }
    },
    {
      "cell_type": "code",
      "source": [
        "# write your code here"
      ],
      "metadata": {
        "id": "xk9IjeNzJOH3"
      },
      "execution_count": null,
      "outputs": []
    },
    {
      "cell_type": "markdown",
      "source": [
        "7) Write a Python program to find sequences of `lowercase letters` joined with a `underscore`"
      ],
      "metadata": {
        "id": "LqKBfuVkJT8L"
      }
    },
    {
      "cell_type": "code",
      "source": [
        "# write your code here"
      ],
      "metadata": {
        "id": "iXGO2pWuJchR"
      },
      "execution_count": null,
      "outputs": []
    },
    {
      "cell_type": "markdown",
      "source": [
        "8) Write a Python program to find the sequences of `one upper case letter` followed by `lower case letters`"
      ],
      "metadata": {
        "id": "EWZBEKedJoMT"
      }
    },
    {
      "cell_type": "code",
      "source": [
        "# write your code here"
      ],
      "metadata": {
        "id": "8e4uA8UCJn8a"
      },
      "execution_count": null,
      "outputs": []
    },
    {
      "cell_type": "markdown",
      "source": [
        "9) Write a Python program that matches a string that has an `l` followed by anything, ending in `e`"
      ],
      "metadata": {
        "id": "wRspp7J8JrWk"
      }
    },
    {
      "cell_type": "code",
      "source": [
        "# write your code here"
      ],
      "metadata": {
        "id": "G4Ul_2zzJ-OL"
      },
      "execution_count": null,
      "outputs": []
    },
    {
      "cell_type": "markdown",
      "source": [
        "10) Write a Python program that matches a `word` at the `beginning of a string`\n",
        "\n",
        "(if string starts with ` ` (space) it should not match)"
      ],
      "metadata": {
        "id": "VJDWTDfTJ9sq"
      }
    },
    {
      "cell_type": "code",
      "source": [
        "# write your code here"
      ],
      "metadata": {
        "id": "znJUM-z7J_TF"
      },
      "execution_count": null,
      "outputs": []
    },
    {
      "cell_type": "markdown",
      "source": [
        "11) Write a Python program that matches a `word` at the end of string, with `optional punctuation`\n",
        "\n",
        "(if string ends with ` ` (space) it should not match)"
      ],
      "metadata": {
        "id": "j918mo-wKEVY"
      }
    },
    {
      "cell_type": "code",
      "source": [
        "# write your code here"
      ],
      "metadata": {
        "id": "gntwKCYDKJEZ"
      },
      "execution_count": null,
      "outputs": []
    },
    {
      "cell_type": "markdown",
      "source": [
        "12) Write a Python program that matches a word containing `q`"
      ],
      "metadata": {
        "id": "p4jLrbdxKcD7"
      }
    },
    {
      "cell_type": "code",
      "source": [
        "# write your code here"
      ],
      "metadata": {
        "id": "DUlizTkNKgPC"
      },
      "execution_count": null,
      "outputs": []
    },
    {
      "cell_type": "markdown",
      "source": [
        "13) Write a Python program that matches a word containing `g` , not at the start or end of the word"
      ],
      "metadata": {
        "id": "ahu8Z8goKg-m"
      }
    },
    {
      "cell_type": "code",
      "source": [
        "# write your code here"
      ],
      "metadata": {
        "id": "SbJ8xgJfLJcP"
      },
      "execution_count": null,
      "outputs": []
    },
    {
      "cell_type": "markdown",
      "source": [
        "14) Write a Python program to match a string that contains only `upper` and `lowercase letters`, `numbers`, and `underscores`\n",
        "\n",
        "(no space allowed)"
      ],
      "metadata": {
        "id": "jZDeMjG5LNsD"
      }
    },
    {
      "cell_type": "code",
      "source": [
        "# write your code here"
      ],
      "metadata": {
        "id": "1eK5Gp9DLUpC"
      },
      "execution_count": null,
      "outputs": []
    },
    {
      "cell_type": "markdown",
      "source": [
        "15) Write a Python program where a string will start with `+` a specific number (let it be `7`)"
      ],
      "metadata": {
        "id": "gajp-XVuLhLo"
      }
    },
    {
      "cell_type": "code",
      "source": [
        "# write your code here"
      ],
      "metadata": {
        "id": "4jIwVk03Lw-U"
      },
      "execution_count": null,
      "outputs": []
    },
    {
      "cell_type": "markdown",
      "source": [
        "16) Write a Python program to remove leading zeros from an IP address\n",
        "\n",
        "f.e. `255.01.092.132` -> `255.1.92.132`"
      ],
      "metadata": {
        "id": "BRcPryecL6cl"
      }
    },
    {
      "cell_type": "code",
      "source": [
        "# write your code here"
      ],
      "metadata": {
        "id": "2OL9AeEeL8Ba"
      },
      "execution_count": null,
      "outputs": []
    },
    {
      "cell_type": "markdown",
      "source": [
        "17) Write a Python program to check for a `number` at the end of a string"
      ],
      "metadata": {
        "id": "Cd91wY9XMJmp"
      }
    },
    {
      "cell_type": "code",
      "source": [
        "# write your code here"
      ],
      "metadata": {
        "id": "xMabObz1MXBU"
      },
      "execution_count": null,
      "outputs": []
    },
    {
      "cell_type": "markdown",
      "source": [
        "18) Write a Python program to search the numbers `0-9` of length between `1` to `3` in a given string."
      ],
      "metadata": {
        "id": "yBfW8pMQMX7R"
      }
    },
    {
      "cell_type": "code",
      "source": [
        "# write your code here"
      ],
      "metadata": {
        "id": "vhp23FlHMhDI"
      },
      "execution_count": null,
      "outputs": []
    },
    {
      "cell_type": "markdown",
      "source": [
        "19) Write a Python program to search some literals strings in a string.\n",
        "Sample text : `'The quick brown fox jumps over the lazy dog'`\n",
        "\n",
        "Searched words : `'fox', 'dog', 'horse'`"
      ],
      "metadata": {
        "id": "jXC93RaVMxWe"
      }
    },
    {
      "cell_type": "code",
      "source": [
        "# write your code here"
      ],
      "metadata": {
        "id": "YMwepnTNM5TL"
      },
      "execution_count": null,
      "outputs": []
    },
    {
      "cell_type": "markdown",
      "source": [
        "20) Write a Python program to search a literals string in a string and also find the location within the original string where the pattern occurs\n",
        "\n",
        "Sample text : `'The quick brown fox jumps over the lazy dog.' `\n",
        "\n",
        "Searched words : `'lazy'`"
      ],
      "metadata": {
        "id": "w9NbxwMYNaOE"
      }
    },
    {
      "cell_type": "code",
      "source": [
        "# write your code here"
      ],
      "metadata": {
        "id": "GS2fmeXgPalw"
      },
      "execution_count": null,
      "outputs": []
    },
    {
      "cell_type": "markdown",
      "source": [
        "21) Write a Python program to find the substrings within a string.\n",
        "\n",
        "Sample text :\n",
        "\n",
        "`'Machine learning, Deep learning, life-long learning'`\n",
        "\n",
        "Pattern :\n",
        "\n",
        "`'learning'`\n",
        "\n",
        "Note: There are two instances of exercises in the input string."
      ],
      "metadata": {
        "id": "qEoaZyFZPsol"
      }
    },
    {
      "cell_type": "code",
      "source": [
        "# write your code here"
      ],
      "metadata": {
        "id": "EgDma3vEQCCg"
      },
      "execution_count": null,
      "outputs": []
    },
    {
      "cell_type": "markdown",
      "source": [
        "22) Write a Python program to find the occurrence and position of the substrings within a string\n",
        "\n",
        "(previous example)"
      ],
      "metadata": {
        "id": "GYDIvXJZQDpZ"
      }
    },
    {
      "cell_type": "code",
      "source": [
        "# write your code here"
      ],
      "metadata": {
        "id": "xrPBcEf0QJnp"
      },
      "execution_count": null,
      "outputs": []
    },
    {
      "cell_type": "markdown",
      "source": [
        "23) Write a Python program to replace `whitespaces` with an `underscore` and vice versa"
      ],
      "metadata": {
        "id": "p93WQtWJQObA"
      }
    },
    {
      "cell_type": "code",
      "source": [
        "# write your code here"
      ],
      "metadata": {
        "id": "hRSU6e-_QPes"
      },
      "execution_count": null,
      "outputs": []
    },
    {
      "cell_type": "markdown",
      "source": [
        "24) Write a Python program to extract year, month and date from a an url\n",
        "\n",
        "Assume `yyyy/mm/dd` format"
      ],
      "metadata": {
        "id": "d8cBzCqSQVBe"
      }
    },
    {
      "cell_type": "code",
      "source": [
        "# write your code here"
      ],
      "metadata": {
        "id": "OsW6lBsbQdlh"
      },
      "execution_count": null,
      "outputs": []
    },
    {
      "cell_type": "markdown",
      "source": [
        "25) Write a Python program to convert a date of yyyy-mm-dd format to dd-mm-yyyy format"
      ],
      "metadata": {
        "id": "xBXXiZRxQoLB"
      }
    },
    {
      "cell_type": "code",
      "source": [
        "# write your code here"
      ],
      "metadata": {
        "id": "fHdwY3Z1Q5jX"
      },
      "execution_count": null,
      "outputs": []
    },
    {
      "cell_type": "markdown",
      "source": [
        "26) Write a Python program to remove quotation marks `\"` from a string"
      ],
      "metadata": {
        "id": "ifV1l5bHQ_at"
      }
    },
    {
      "cell_type": "code",
      "source": [
        "# write your code here"
      ],
      "metadata": {
        "id": "a19D7Xe7RJRI"
      },
      "execution_count": null,
      "outputs": []
    },
    {
      "cell_type": "markdown",
      "source": [
        "27) Write a Python program to separate and print the `numbers` of a given string"
      ],
      "metadata": {
        "id": "XATFXqJHRHnr"
      }
    },
    {
      "cell_type": "code",
      "source": [
        "# write your code here"
      ],
      "metadata": {
        "id": "8iUQ2yRMRI3Z"
      },
      "execution_count": null,
      "outputs": []
    },
    {
      "cell_type": "markdown",
      "source": [
        "28) Write a Python program to find all words starting with `'f'` or `'t'` in a given string."
      ],
      "metadata": {
        "id": "BT6IrYJeRNF5"
      }
    },
    {
      "cell_type": "code",
      "source": [
        "# write your code here"
      ],
      "metadata": {
        "id": "a0KgmJc7RTSr"
      },
      "execution_count": null,
      "outputs": []
    },
    {
      "cell_type": "markdown",
      "source": [
        "29) Write a Python program to separate and print the numbers and their position of a given string."
      ],
      "metadata": {
        "id": "xt74VS9CRZbv"
      }
    },
    {
      "cell_type": "code",
      "source": [
        "# write your code here"
      ],
      "metadata": {
        "id": "QZSvOuOGRar6"
      },
      "execution_count": null,
      "outputs": []
    },
    {
      "cell_type": "markdown",
      "source": [
        "30) Write a Python program to abbreviate `'Doctor'` as `'Dr.'` in a given string."
      ],
      "metadata": {
        "id": "c6Zk9yhRRc3E"
      }
    },
    {
      "cell_type": "code",
      "source": [
        "# write your code here"
      ],
      "metadata": {
        "id": "EERJPRZDRgDZ"
      },
      "execution_count": null,
      "outputs": []
    },
    {
      "cell_type": "markdown",
      "source": [
        "# The final Task"
      ],
      "metadata": {
        "id": "ZANrKSMSSCtv"
      }
    },
    {
      "cell_type": "markdown",
      "source": [
        "example taken from [here](https://towardsdatascience.com/mastering-regular-expressions-for-your-day-to-day-tasks-b01385aeea56) so you could always cheat)"
      ],
      "metadata": {
        "id": "5z45B-vsSfuS"
      }
    },
    {
      "cell_type": "markdown",
      "source": [
        "**The text**"
      ],
      "metadata": {
        "id": "NzTbXomqSn_1"
      }
    },
    {
      "cell_type": "markdown",
      "source": [
        "Chinese small-leaf-type tea was introduced into India in 1836 by the British in an attempt to break the Chinese monopoly on tea.[57] In 1841, Archibald Campbell brought seeds of Chinese tea from the Kumaun region and experimented with planting tea in Darjeeling. The Alubari tea garden was opened in 1856 and Darjeeling tea began to be produced.[58] In 1848, Robert Fortune was sent by the East India Company on a mission to China to bring the tea plant back to Great Britain. He began his journey in high secrecy as his mission occurred in the lull between the Anglo-Chinese First Opium War (1839–1842) and Second Opium War (1856–1860).[59] .....[57] Tea was originally consumed only by anglicized Indians; however, it became widely popular in India in the 1950s because of a successful advertising campaign by the India Tea Board.[57]"
      ],
      "metadata": {
        "id": "7Gh7s-O0Sb8H"
      }
    },
    {
      "cell_type": "code",
      "source": [
        "text = 'Chinese small-leaf-type tea was introduced into India in 1836 by the British in an attempt to break the Chinese monopoly on tea.[57] In 1841, Archibald Campbell brought seeds of Chinese tea from the Kumaun region and experimented with planting tea in Darjeeling. The Alubari tea garden was opened in 1856 and Darjeeling tea began to be produced.[58] In 1848, Robert Fortune was sent by the East India Company on a mission to China to bring the tea plant back to Great Britain. He began his journey in high secrecy as his mission occurred in the lull between the Anglo-Chinese First Opium War (1839–1842) and Second Opium War (1856–1860).[59] .....[57] Tea was originally consumed only by anglicized Indians; however, it became widely popular in India in the 1950s because of a successful advertising campaign by the India Tea Board.[57]'"
      ],
      "metadata": {
        "id": "VBhTBgnVT0EC"
      },
      "execution_count": null,
      "outputs": []
    },
    {
      "cell_type": "markdown",
      "source": [
        "1) Write a Python program to extract all annotations  (numers in square brackets) - and only them"
      ],
      "metadata": {
        "id": "rO9SsBaWSsDF"
      }
    },
    {
      "cell_type": "code",
      "source": [
        "# write your code here"
      ],
      "metadata": {
        "id": "P8U1TU_8TCa4"
      },
      "execution_count": null,
      "outputs": []
    },
    {
      "cell_type": "markdown",
      "source": [
        "2) Write a Python program to extract all years\n",
        "\n",
        "For a case of a span - calculate the span (bigger number - smaller)"
      ],
      "metadata": {
        "id": "I34XwLY7TDpA"
      }
    },
    {
      "cell_type": "code",
      "source": [
        "# write your code here"
      ],
      "metadata": {
        "id": "lSA-8Zh-TvfI"
      },
      "execution_count": null,
      "outputs": []
    },
    {
      "cell_type": "markdown",
      "source": [
        "3) Write a Python program to replace `First` and `Second` (only in names of the wars) to `1st` and `2nd` respectively"
      ],
      "metadata": {
        "id": "-GMmHaBqUP8b"
      }
    },
    {
      "cell_type": "code",
      "source": [
        "# write your code here"
      ],
      "metadata": {
        "id": "jAmy636sU9wp"
      },
      "execution_count": null,
      "outputs": []
    },
    {
      "cell_type": "markdown",
      "source": [
        "4) Write a Python program to count how many times tea was used in context of \"Chinese Tea\"\n",
        "Don't forget to consider upper and lower case + possible in between words"
      ],
      "metadata": {
        "id": "_AVDD29OVrLt"
      }
    },
    {
      "cell_type": "code",
      "source": [
        "# write your code here"
      ],
      "metadata": {
        "id": "BNUfTFExWKtK"
      },
      "execution_count": null,
      "outputs": []
    },
    {
      "cell_type": "markdown",
      "source": [
        "**Extra**\n",
        "\n",
        "Use regex to find the winner team given the following table\n",
        "\n",
        "And the margin by which it won"
      ],
      "metadata": {
        "id": "IY9ahxW3WZ9E"
      }
    },
    {
      "cell_type": "code",
      "source": [
        "text = '''\n",
        "Juventus F.C.     -    Napoli                 4:1 (2:0)\n",
        "A.C. Milan        -    Internazionale F.C.    2:2 (1:0)\n",
        "A.C. Fiorentina   -    Torino                 1:0 (0:0)\n",
        "Lazio             -    Atalanta               0:3 (0:2)\n",
        "Lazio             -    Juventus F.C.          0:4 (0:2)\n",
        "'''"
      ],
      "metadata": {
        "id": "8lqS1s-UWbHd"
      },
      "execution_count": null,
      "outputs": []
    }
  ]
}